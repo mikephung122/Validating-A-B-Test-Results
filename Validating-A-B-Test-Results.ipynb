{
 "cells": [
  {
   "cell_type": "markdown",
   "metadata": {},
   "source": [
    "# Validating A/B Test Results\n",
    "\n",
    "Yammer is a social network for communicating with coworkers. Individuals share documents, updates, and ideas by posting them in groups. Yammer is free to use indefinitely, but companies must pay license fees if they want access to administrative controls, including integration with user management systems like ActiveDirectory.\n",
    "\n",
    "Yammer has a centralized Analytics team, which sits in the Engineering organization. Their primary goal is to drive better product and business decisions using data. They do this partially by providing tools and education that make other teams within Yammer more effective at using data to make better decisions. They also perform ad-hoc analysis to support specific decisions.\n",
    "\n",
    "Yammer not only develops new features, but is continuously looking for ways to improving existing ones. Like many software companies, Yammer frequently tests these features before releasing them to all of thier customers. These A/B tests help analysts and product managers better understand a feature’s effect on user behavior and the overall user experience.\n",
    "\n",
    "This case focuses on an improvement to Yammer’s core “publisher”—the module at the top of a Yammer feed where users type their messages. To test this feature, the product team ran an A/B test from June 1 through June 30. During this period, some users who logged into Yammer were shown the old version of the publisher (the “control group”), while other other users were shown the new version (the “treatment group”).\n",
    "\n",
    "On July 1, you check the results of the A/B test. You notice that message posting is 50% higher in the treatment group—a huge increase in posting.\n",
    "\n",
    "Our job is to determine whether this feature is the real deal or too good to be true.\n",
    "\n",
    "![A/B Testing Image](https://images.ctfassets.net/zw48pl1isxmc/4QYN7VubAAgEAGs0EuWguw/165749ef2fa01c1c004b6a167fd27835/ab-testing.png)"
   ]
  },
  {
   "cell_type": "markdown",
   "metadata": {},
   "source": [
    "## Modules and Data\n",
    "Here we load the modules which we will be using for the data analysis along with the data itself.  The data created through querying the Mode Analytics database and exporting the results to csv files."
   ]
  },
  {
   "cell_type": "code",
   "execution_count": 1,
   "metadata": {},
   "outputs": [],
   "source": [
    "import pandas as pd\n",
    "import numpy as np\n",
    "import matplotlib.pyplot as plt\n",
    "import seaborn as sns\n",
    "from scipy import stats\n",
    "%matplotlib inline"
   ]
  },
  {
   "cell_type": "code",
   "execution_count": 2,
   "metadata": {},
   "outputs": [],
   "source": [
    "import warnings\n",
    "warnings.simplefilter(action='ignore', category=FutureWarning)"
   ]
  },
  {
   "cell_type": "code",
   "execution_count": 3,
   "metadata": {},
   "outputs": [],
   "source": [
    "Query1 = pd.read_csv(r'C:\\Users\\Mike\\GIT Bash\\Validating-A-B-Test-Results\\Query-Data\\Query 1.csv')\n",
    "Query2 = pd.read_csv(r'C:\\Users\\Mike\\GIT Bash\\Validating-A-B-Test-Results\\Query-Data\\Query 2.csv')\n",
    "Query3 = pd.read_csv(r'C:\\Users\\Mike\\GIT Bash\\Validating-A-B-Test-Results\\Query-Data\\Query 3.csv')\n",
    "Query4 = pd.read_csv(r'C:\\Users\\Mike\\GIT Bash\\Validating-A-B-Test-Results\\Query-Data\\Query 4.csv')\n",
    "Query5 = pd.read_csv(r'C:\\Users\\Mike\\GIT Bash\\Validating-A-B-Test-Results\\Query-Data\\Query 5.csv')\n",
    "Query6 = pd.read_csv(r'C:\\Users\\Mike\\GIT Bash\\Validating-A-B-Test-Results\\Query-Data\\Query 6.csv')\n",
    "Query7 = pd.read_csv(r'C:\\Users\\Mike\\GIT Bash\\Validating-A-B-Test-Results\\Query-Data\\Query 7.csv')\n",
    "Query8 = pd.read_csv(r'C:\\Users\\Mike\\GIT Bash\\Validating-A-B-Test-Results\\Query-Data\\Query 8.csv')\n",
    "Query9 = pd.read_csv(r'C:\\Users\\Mike\\GIT Bash\\Validating-A-B-Test-Results\\Query-Data\\Query 9.csv')\n",
    "Query10 = pd.read_csv(r'C:\\Users\\Mike\\GIT Bash\\Validating-A-B-Test-Results\\Query-Data\\Query 10.csv')\n",
    "Query11 = pd.read_csv(r'C:\\Users\\Mike\\GIT Bash\\Validating-A-B-Test-Results\\Query-Data\\Query 11.csv')"
   ]
  },
  {
   "cell_type": "markdown",
   "metadata": {},
   "source": [
    "## A/B Test Results\n",
    "\n",
    "The table from Query1 summarizes the A/B test results that were acquired and a definition of each item can be found below:\n",
    "\n",
    "- users: The total number of users shown that version of the publisher.\n",
    "- total_treated_users: The number of users who were treated in either group.\n",
    "- treatment_percent: The number of users in that group as a percentage of the total number of treated users.\n",
    "- total: The total number of messages posted by that treatment group.\n",
    "- average: The average number of messages per user in that treatment group (total/users).\n",
    "- rate_difference: The difference in posting rates between treatment groups (group average - control group average).\n",
    "- rate_lift: The percent difference in posting rates between treatment groups ((group average / control group average) - 1).\n",
    "- stdev: The standard deviation of messages posted per user for users in the treatment group. For example, if there were three people in the control group and they posted 1, 4, and 8 messages, this value would be the standard deviation of 1, 4, and 8 (which is 2.9).\n",
    "- t_stat: A test statistic for calculating if average of the treatment group is statistically different from the average of the control group. It is calculated using the averages and standard deviations of the treatment and control groups.\n",
    "- p_value: Used to determine the test’s statistical significance.\n"
   ]
  },
  {
   "cell_type": "code",
   "execution_count": 4,
   "metadata": {},
   "outputs": [
    {
     "name": "stdout",
     "output_type": "stream",
     "text": [
      "         experiment experiment_group  users  total_treated_users  \\\n",
      "0  publisher_update    control_group   1746                 2595   \n",
      "1  publisher_update       test_group    849                 2595   \n",
      "\n",
      "   treatment_percent  total  average  rate_difference  rate_lift   stdev  \\\n",
      "0             0.6728   4660   2.6690           0.0000      0.000  3.5586   \n",
      "1             0.3272   3460   4.0754           1.4064      0.527  4.7676   \n",
      "\n",
      "   t_stat  p_value  \n",
      "0  0.0000      1.0  \n",
      "1  7.6245      0.0  \n"
     ]
    }
   ],
   "source": [
    "print(Query1)"
   ]
  },
  {
   "cell_type": "markdown",
   "metadata": {},
   "source": [
    "## Verifying Data and Test Calculations\n",
    "\n",
    "First off we can start by verifying the data and test calculations.  Query2 and Query 3 provide the list of control group and test group users and their messages sent.  Using these we can check that the means, standard deviations and test statistics.  Matching values will help verify that data and calculations are correct."
   ]
  },
  {
   "cell_type": "code",
   "execution_count": 5,
   "metadata": {},
   "outputs": [
    {
     "data": {
      "text/plain": [
       "2.6689576174112255"
      ]
     },
     "execution_count": 5,
     "metadata": {},
     "output_type": "execute_result"
    }
   ],
   "source": [
    "Query2[\"metric\"].mean()"
   ]
  },
  {
   "cell_type": "code",
   "execution_count": 6,
   "metadata": {},
   "outputs": [
    {
     "data": {
      "text/plain": [
       "4.075382803297997"
      ]
     },
     "execution_count": 6,
     "metadata": {},
     "output_type": "execute_result"
    }
   ],
   "source": [
    "Query3[\"metric\"].mean()"
   ]
  },
  {
   "cell_type": "code",
   "execution_count": 7,
   "metadata": {},
   "outputs": [
    {
     "data": {
      "text/plain": [
       "3.5586496185573373"
      ]
     },
     "execution_count": 7,
     "metadata": {},
     "output_type": "execute_result"
    }
   ],
   "source": [
    "Query2[\"metric\"].std()"
   ]
  },
  {
   "cell_type": "code",
   "execution_count": 8,
   "metadata": {},
   "outputs": [
    {
     "data": {
      "text/plain": [
       "4.767615734141134"
      ]
     },
     "execution_count": 8,
     "metadata": {},
     "output_type": "execute_result"
    }
   ],
   "source": [
    "Query3[\"metric\"].std()"
   ]
  },
  {
   "cell_type": "code",
   "execution_count": 9,
   "metadata": {},
   "outputs": [
    {
     "data": {
      "text/plain": [
       "Ttest_indResult(statistic=7.624496277835627, pvalue=4.655640735000748e-14)"
      ]
     },
     "execution_count": 9,
     "metadata": {},
     "output_type": "execute_result"
    }
   ],
   "source": [
    "stats.ttest_ind(Query3[\"metric\"], Query2[\"metric\"], equal_var=False)"
   ]
  },
  {
   "cell_type": "markdown",
   "metadata": {},
   "source": [
    "We can see that the values we set out to verify do in fact match and it looks like there are no issues with the data or test calculations.  Furthermore we can see that a two-sided test for the null hypothesis was used with an assumption that the variances of both samples are unequal, also known as Welch's t-test."
   ]
  },
  {
   "cell_type": "markdown",
   "metadata": {},
   "source": [
    "## Verifying User Treatment\n",
    "\n",
    "Accurate A/B Test results require that users are assigned to the control group and test groups randomly. Using the data collected we can examine the users in each group to look for inconsistencies.  Query4 shows experiment group distribution by month activated, Query5 shows experiment group distribution by device type and Query6 shows experiment group distribution by language preference."
   ]
  },
  {
   "cell_type": "code",
   "execution_count": 10,
   "metadata": {},
   "outputs": [
    {
     "name": "stdout",
     "output_type": "stream",
     "text": [
      "        month_activated  control_users  test_users\n",
      "0   2013-01-01 00:00:00             24          13\n",
      "1   2013-02-01 00:00:00             27          20\n",
      "2   2013-03-01 00:00:00             15          32\n",
      "3   2013-04-01 00:00:00             28          27\n",
      "4   2013-05-01 00:00:00             15          30\n",
      "5   2013-06-01 00:00:00             22          19\n",
      "6   2013-07-01 00:00:00             32          32\n",
      "7   2013-08-01 00:00:00             41          38\n",
      "8   2013-09-01 00:00:00             37          45\n",
      "9   2013-10-01 00:00:00             46          45\n",
      "10  2013-11-01 00:00:00             49          39\n",
      "11  2013-12-01 00:00:00             49          57\n",
      "12  2014-01-01 00:00:00             68          52\n",
      "13  2014-02-01 00:00:00             75          51\n",
      "14  2014-03-01 00:00:00             81          60\n",
      "15  2014-04-01 00:00:00             82          86\n",
      "16  2014-05-01 00:00:00            182         203\n",
      "17  2014-06-01 00:00:00            873           0\n"
     ]
    }
   ],
   "source": [
    "print(Query4)"
   ]
  },
  {
   "cell_type": "code",
   "execution_count": 11,
   "metadata": {},
   "outputs": [
    {
     "name": "stdout",
     "output_type": "stream",
     "text": [
      "  device_type  control_users  test_users\n",
      "0      tablet            217          92\n",
      "1      mobile            522         288\n",
      "2    computer           1007         469\n"
     ]
    }
   ],
   "source": [
    "print(Query5)"
   ]
  },
  {
   "cell_type": "code",
   "execution_count": 12,
   "metadata": {},
   "outputs": [
    {
     "name": "stdout",
     "output_type": "stream",
     "text": [
      "     language  control_users  test_users\n",
      "0      arabic             62          31\n",
      "1     chinese             55          33\n",
      "2     english            907         439\n",
      "3      french            147          59\n",
      "4      german             95          46\n",
      "5      indian             56          22\n",
      "6     italian             43          16\n",
      "7    japanese            108          60\n",
      "8      korean             29          15\n",
      "9   portugese             41          23\n",
      "10    russian             45          26\n",
      "11    spanish            158          79\n"
     ]
    }
   ],
   "source": [
    "print(Query6)"
   ]
  },
  {
   "cell_type": "markdown",
   "metadata": {},
   "source": [
    "From the results it is clear that the 873 newest users were all placed into the control group.  Randomly assigning them to the test group would require modifying the table data so instead we will choose to exclude these users from the A/B test.  This leads to the results in Query7."
   ]
  },
  {
   "cell_type": "code",
   "execution_count": 13,
   "metadata": {},
   "outputs": [
    {
     "name": "stdout",
     "output_type": "stream",
     "text": [
      "         experiment experiment_group  users  total_treated_users  \\\n",
      "0  publisher_update    control_group    873                 1722   \n",
      "1  publisher_update       test_group    849                 1722   \n",
      "\n",
      "   treatment_percent  total  average  rate_difference  rate_lift   stdev  \\\n",
      "0              0.507   2546   2.9164            0.000     0.0000  3.8758   \n",
      "1              0.493   3460   4.0754            1.159     0.3974  4.7676   \n",
      "\n",
      "   t_stat       p_value  \n",
      "0  0.0000  1.000000e+00  \n",
      "1  5.5266  3.200000e-08  \n"
     ]
    }
   ],
   "source": [
    "print(Query7)"
   ]
  },
  {
   "cell_type": "markdown",
   "metadata": {},
   "source": [
    "# Selecting a Metric\n",
    "\n",
    "The A/B test checks for improved results due to changes in the \"publisher\" which allows users to send messages.  A key idea in A/B testing is conversion rate, or the percentage of people who come to our site to do what we want them to do.  Ultimately, Yammer attempts to increase engagement to increase use and drive license purchases.  Using this idea, we can measure the conversion rate in other ways.  Query8 measures days logged in per user.  Query9 shows number of engagement events per user.  Using more metrics we can get a better picture of the impact of the improvement."
   ]
  },
  {
   "cell_type": "code",
   "execution_count": 14,
   "metadata": {},
   "outputs": [
    {
     "name": "stdout",
     "output_type": "stream",
     "text": [
      "         experiment experiment_group  users  total_treated_users  \\\n",
      "0  publisher_update    control_group    873                 1722   \n",
      "1  publisher_update       test_group    849                 1722   \n",
      "\n",
      "   treatment_percent  total  average  rate_difference  rate_lift   stdev  \\\n",
      "0              0.507   2778   3.1821           0.0000     0.0000  2.3354   \n",
      "1              0.493   3057   3.6007           0.4186     0.1315  2.6986   \n",
      "\n",
      "   t_stat   p_value  \n",
      "0  0.0000  1.000000  \n",
      "1  3.4377  0.000586  \n"
     ]
    }
   ],
   "source": [
    "print(Query8)"
   ]
  },
  {
   "cell_type": "code",
   "execution_count": 15,
   "metadata": {},
   "outputs": [
    {
     "name": "stdout",
     "output_type": "stream",
     "text": [
      "         experiment experiment_group  users  total_treated_users  \\\n",
      "0  publisher_update    control_group    873                 1722   \n",
      "1  publisher_update       test_group    849                 1722   \n",
      "\n",
      "   treatment_percent  total  average  rate_difference  rate_lift    stdev  \\\n",
      "0              0.507  25363  29.0527           0.0000     0.0000  33.1020   \n",
      "1              0.493  31755  37.4028           8.3501     0.2874  38.9146   \n",
      "\n",
      "   t_stat   p_value  \n",
      "0  0.0000  1.000000  \n",
      "1  4.7901  0.000002  \n"
     ]
    }
   ],
   "source": [
    "print(Query9)"
   ]
  },
  {
   "cell_type": "markdown",
   "metadata": {},
   "source": [
    "Although both test statistics and p values are lower than the original test for messages sent we can see that the p value is still much lower than 0.05 which is a reasonable threshold of statistical significance."
   ]
  },
  {
   "cell_type": "markdown",
   "metadata": {},
   "source": [
    "## Verifying Stastistical Methods\n",
    "\n",
    "Earlier we determined that a Welch's t-test was used to determine if the difference between the two samples was statistically significant.  In statistics, Welch's t-test, or unequal variances t-test, is a two-sample location test which is used to test the hypothesis that two populations have equal means. Welch's t-test is an adaptation of Student's t-test, and is more reliable when the two samples have unequal variances and/or unequal sample sizes.  Student's t-test assumes that the two populations have normal distributions with equal variances. Welch's t-test is designed for unequal variances, but the assumption of normality is maintained.  Using this we can check to see if both samples have normal distributions and unequal variances as assumed to determine if the appropriate test was used.  To test for normality we can visually observe each distribution using histograms / box plots and conduct a Kolmogorov–Smirnov test and Shapiro–Wilk test.  To test for variance we can use Levene's test."
   ]
  },
  {
   "cell_type": "code",
   "execution_count": 16,
   "metadata": {},
   "outputs": [
    {
     "data": {
      "image/png": "[encoded data removed]",
      "text/plain": [
       "<Figure size 480x480 with 1 Axes>"
      ]
     },
     "metadata": {
      "needs_background": "light"
     },
     "output_type": "display_data"
    }
   ],
   "source": [
    "# Draw Plot\n",
    "plt.figure(figsize=(6,6), dpi= 80)\n",
    "sns.distplot(Query10['metric'], kde=False, hist_kws={'alpha':.7}, kde_kws={'linewidth':3})\n",
    "\n",
    "# Decoration\n",
    "plt.title('Histogram of Engagement Events per Control Group User', fontsize=16)\n",
    "plt.xlabel(\"Engagement Events\")\n",
    "plt.show()"
   ]
  },
  {
   "cell_type": "code",
   "execution_count": 17,
   "metadata": {},
   "outputs": [
    {
     "data": {
      "image/png": "[encoded data removed]",
      "text/plain": [
       "<Figure size 480x480 with 1 Axes>"
      ]
     },
     "metadata": {
      "needs_background": "light"
     },
     "output_type": "display_data"
    }
   ],
   "source": [
    "# Draw Plot\n",
    "plt.figure(figsize=(6,6), dpi= 80)\n",
    "sns.distplot(Query11['metric'], kde=False, hist_kws={'alpha':.7}, kde_kws={'linewidth':3})\n",
    "\n",
    "# Decoration\n",
    "plt.title('Histogram of Engagement Events per Test Group User', fontsize=16)\n",
    "plt.xlabel(\"Engagement Events\")\n",
    "plt.show()"
   ]
  },
  {
   "cell_type": "code",
   "execution_count": 18,
   "metadata": {},
   "outputs": [
    {
     "data": {
      "image/png": "[encoded data removed]",
      "text/plain": [
       "<Figure size 800x800 with 1 Axes>"
      ]
     },
     "metadata": {
      "needs_background": "light"
     },
     "output_type": "display_data"
    }
   ],
   "source": [
    "# Draw Plot\n",
    "fig, ax = plt.subplots(figsize=(10,10), dpi= 80)\n",
    "sns.boxplot(data=[Query10['metric'].values, Query11['metric'].values], notch=False)\n",
    "\n",
    "# Decoration\n",
    "ax.set_xticklabels(['control group','test group'])\n",
    "plt.title('Box Plot of Engagement Events by Experiment Group', fontsize=22)\n",
    "plt.show()"
   ]
  },
  {
   "cell_type": "code",
   "execution_count": 19,
   "metadata": {},
   "outputs": [],
   "source": [
    "experiment_groups = pd.DataFrame(columns=['control group', 'test group'])"
   ]
  },
  {
   "cell_type": "code",
   "execution_count": 20,
   "metadata": {},
   "outputs": [
    {
     "data": {
      "text/plain": [
       "KstestResult(statistic=0.9772498680518208, pvalue=0.0)"
      ]
     },
     "execution_count": 20,
     "metadata": {},
     "output_type": "execute_result"
    }
   ],
   "source": [
    "stats.kstest(rvs=Query10[\"metric\"], cdf='norm')"
   ]
  },
  {
   "cell_type": "code",
   "execution_count": 31,
   "metadata": {},
   "outputs": [
    {
     "data": {
      "text/plain": [
       "(0.7451919913291931, 1.4717682888086889e-34)"
      ]
     },
     "execution_count": 31,
     "metadata": {},
     "output_type": "execute_result"
    }
   ],
   "source": [
    "stats.shapiro(Query10[\"metric\"])"
   ]
  },
  {
   "cell_type": "code",
   "execution_count": 32,
   "metadata": {},
   "outputs": [
    {
     "data": {
      "text/plain": [
       "KstestResult(statistic=0.9772498680518208, pvalue=0.0)"
      ]
     },
     "execution_count": 32,
     "metadata": {},
     "output_type": "execute_result"
    }
   ],
   "source": [
    "stats.kstest(rvs=Query11[\"metric\"], cdf='norm')"
   ]
  },
  {
   "cell_type": "code",
   "execution_count": 33,
   "metadata": {},
   "outputs": [
    {
     "data": {
      "text/plain": [
       "(0.799629807472229, 4.308668748447521e-31)"
      ]
     },
     "execution_count": 33,
     "metadata": {},
     "output_type": "execute_result"
    }
   ],
   "source": [
    "stats.shapiro(Query11[\"metric\"])"
   ]
  },
  {
   "cell_type": "code",
   "execution_count": 24,
   "metadata": {},
   "outputs": [
    {
     "data": {
      "text/plain": [
       "LeveneResult(statistic=16.43564837014963, pvalue=5.25765365833527e-05)"
      ]
     },
     "execution_count": 24,
     "metadata": {},
     "output_type": "execute_result"
    }
   ],
   "source": [
    "stats.levene(Query10[\"metric\"], Query11[\"metric\"])"
   ]
  },
  {
   "cell_type": "markdown",
   "metadata": {},
   "source": [
    "After examining the results it can be clearly seen that although the variances are indeed unequal, the distributions of both samples are not normal as assumed.  In statistics, the Mann–Whitney U test (also called the Mann–Whitney–Wilcoxon (MWW), Wilcoxon rank-sum test, or Wilcoxon–Mann–Whitney test) is a nonparametric test of the null hypothesis that it is equally likely that a randomly selected value from one sample will be less than or greater than a randomly selected value from a second sample.  But unlike the t-test it does not require the assumption of normal distributions."
   ]
  },
  {
   "cell_type": "code",
   "execution_count": 30,
   "metadata": {},
   "outputs": [
    {
     "data": {
      "text/plain": [
       "Ttest_indResult(statistic=4.7900531368261365, pvalue=1.8157433853044827e-06)"
      ]
     },
     "execution_count": 30,
     "metadata": {},
     "output_type": "execute_result"
    }
   ],
   "source": [
    "stats.ttest_ind(Query11[\"metric\"], Query10[\"metric\"], equal_var=False)"
   ]
  },
  {
   "cell_type": "code",
   "execution_count": 29,
   "metadata": {},
   "outputs": [
    {
     "data": {
      "text/plain": [
       "MannwhitneyuResult(statistic=317954.0, pvalue=1.66700820055325e-07)"
      ]
     },
     "execution_count": 29,
     "metadata": {},
     "output_type": "execute_result"
    }
   ],
   "source": [
    "stats.mannwhitneyu(Query11[\"metric\"], Query10[\"metric\"])"
   ]
  },
  {
   "cell_type": "markdown",
   "metadata": {},
   "source": [
    "Ultimately both tests still produce a p value much lower than 0.05 which allows us the reject the null hypothesis that the two samples are equal.  We can confidently confirm that the improvements made produced strong results."
   ]
  }
 ],
 "metadata": {
  "kernelspec": {
   "display_name": "Python 3",
   "language": "python",
   "name": "python3"
  },
  "language_info": {
   "codemirror_mode": {
    "name": "ipython",
    "version": 3
   },
   "file_extension": ".py",
   "mimetype": "text/x-python",
   "name": "python",
   "nbconvert_exporter": "python",
   "pygments_lexer": "ipython3",
   "version": "3.7.0"
  }
 },
 "nbformat": 4,
 "nbformat_minor": 2
}
